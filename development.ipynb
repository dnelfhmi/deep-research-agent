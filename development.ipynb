{
 "cells": [
  {
   "cell_type": "markdown",
   "id": "d1e9a8e0",
   "metadata": {},
   "source": [
    "## Deep Research Agent Development Notebook\n",
    "\n",
    "### Tools used: OpenAI SDK, Python, Sendgrid, uv Package Manager\n",
    "\n",
    "Agent system for generating deep research reports using OpenAI SDK"
   ]
  },
  {
   "cell_type": "code",
   "execution_count": null,
   "id": "e388106f",
   "metadata": {},
   "outputs": [],
   "source": [
    "# imports\n",
    "\n",
    "from agents import Agent, WebSearchTool, trace, Runner, gen_trace_id, function_tool\n",
    "from agents.model_settings import ModelSettings\n",
    "from pydantic import BaseModel, Field\n",
    "from dotenv import load_dotenv\n",
    "import asyncio\n",
    "import sendgrid\n",
    "import os\n",
    "from sendgrid.helpers.mail import Mail, Email, To, Content\n",
    "from typing import Dict\n",
    "from IPython.display import display, Markdown"
   ]
  },
  {
   "cell_type": "code",
   "execution_count": null,
   "id": "fa8c06ab",
   "metadata": {
    "vscode": {
     "languageId": "plaintext"
    }
   },
   "outputs": [],
   "source": []
  }
 ],
 "metadata": {
  "language_info": {
   "name": "python"
  }
 },
 "nbformat": 4,
 "nbformat_minor": 5
}
